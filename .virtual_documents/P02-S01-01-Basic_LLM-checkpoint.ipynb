


from openai import OpenAI





import os
from dotenv import load_dotenv, find_dotenv
load_dotenv(find_dotenv()) # Load environment variables from .env file
current_api_key = os.getenv("OPENAI_API_KEY")
client = OpenAI(api_key=current_api_key)
if current_api_key is None:
    raise ValueError("OPENAI_API_KEY environment variable not set")
else: print ("openai API key is "+ current_api_key)






completion = client.chat.completions.create(
  model="gpt-4o",
  messages=[
    {"role": "system", "content": "You are a poetic assistant, skilled in explaining complex concepts with creative flair."},
    {"role": "user", "content": "Compose a 6 lines poem that explains the concept of hesitation as a strength in real life"}
  ]
)

print(completion.choices[0].message)





print(completion.choices[0].message)



